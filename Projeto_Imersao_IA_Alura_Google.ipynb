{
  "nbformat": 4,
  "nbformat_minor": 0,
  "metadata": {
    "colab": {
      "provenance": [],
      "authorship_tag": "ABX9TyPrwMDN9Xixa1UxK0Xq3cWA",
      "include_colab_link": true
    },
    "kernelspec": {
      "name": "python3",
      "display_name": "Python 3"
    },
    "language_info": {
      "name": "python"
    }
  },
  "cells": [
    {
      "cell_type": "markdown",
      "metadata": {
        "id": "view-in-github",
        "colab_type": "text"
      },
      "source": [
        "<a href=\"https://colab.research.google.com/github/TML-CODES/Imersao-IA-Alura-Google/blob/main/Projeto_Imersao_IA_Alura_Google.ipynb\" target=\"_parent\"><img src=\"https://colab.research.google.com/assets/colab-badge.svg\" alt=\"Open In Colab\"/></a>"
      ]
    },
    {
      "cell_type": "markdown",
      "source": [
        "# Professor de Programação IA Gemini\n",
        "\n",
        "Este projeto foi feito a partir do desafio da imersão de IA da Alura com o Google.\n",
        "\n",
        "A ideia deste projeto é ajudar e facilitar o estudo de alunos de programação, tendo um \"professor\" que é adaptado especificamente para o seu estilo / perfil de aprendizagem.\n",
        "Cada estudante tem uma maneira específica de aprender novos conteúdos, alguns aprendem mais facilmente com analogias, outros com vídeos, tutoriais, dethalamento técnico, documentações, gamificação, entre outros.\n",
        "\n",
        "Foi utilizado um modelo generativo de IA do Gemini, no estilo interação de chat, contendo perguntas chaves pré-programadas, que vão trazer informações importantes sobre o \"perfil de aprendizado\" do estudante, onde essas perguntas são repassadas ao chat, para ele \"aprender\", ou mais especificamente armazenar essas informações, para usar como base para passar \"aulas\", orientações, lições, exercícios e explicações da forma que o estudante compreende mais fácil, ou seja, um ensino totalmente personalizado ao que a pessoa quer estudar e ao estilo que ela aprende com mais facilidade.\n",
        "\n",
        "Durante o aprendizado o modelo dará avaliações de pontos fortes e fracos, onde o estudante deve melhorar, além de pedir avaliação sobre seu próprio ensino, para ir se adaptando cada vez mais e se auto-aprimorando.\n",
        "\n",
        "## Evolução\n",
        "\n",
        "A ideia é evoluir este projeto, armazenando os dados em um banco de dados, de forma que não perca o progresso com o aluno e vá se aprimorando cada vez mais durante a jornada de estudos, se moldando ao aluno e agregando conhecimento.\n",
        "\n",
        "Também podemos utilizar técnicas de IA mais apuradas, como o uso de embeddingContents para respostas mais certeiras, e outras técnicas que contribuam para o modelo.\n",
        "\n",
        "Esse modelo também pode ser usado para outras área do conhecimento, com as devidas adaptações para cada cenário.\n",
        "\n",
        "### Pontos fortes\n",
        "\n",
        "* Você estuda sobre o que quiser, a área que tem mais dificuldade ou mais interesse.\n",
        "\n",
        "* Você terá um ensino personalizado e adaptado exclusivamente para você.\n",
        "\n",
        "* Mecanismos do Google, com uma imensa base de dados e IAs treinadas o tempo todo.\n",
        "\n",
        "## Tecnologias\n",
        "\n",
        "* Python 3\n",
        "* Google Generative AI\n",
        "\n",
        "\n",
        "### Código com detalhamento\n",
        "\n"
      ],
      "metadata": {
        "id": "aBJRNC2_E0tB"
      }
    },
    {
      "cell_type": "code",
      "source": [
        "!pip install -q -U google-generativeai"
      ],
      "metadata": {
        "id": "nNVm3IYL6K1k"
      },
      "execution_count": 1,
      "outputs": []
    },
    {
      "cell_type": "code",
      "execution_count": 2,
      "metadata": {
        "id": "nKjOaFshqBUI"
      },
      "outputs": [],
      "source": [
        "# Imports\n",
        "import json\n",
        "import textwrap\n",
        "import google.generativeai as genai\n",
        "from IPython.display import display\n",
        "from IPython.display import Markdown\n",
        "from google.colab import userdata"
      ]
    },
    {
      "cell_type": "markdown",
      "source": [
        "Aqui criamos a função que formatará as respostas do chat no formato Markdown."
      ],
      "metadata": {
        "id": "K4uYXKZIqgas"
      }
    },
    {
      "cell_type": "code",
      "source": [
        "def to_markdown(text):\n",
        "  text = text.replace('`', '*')\n",
        "  return Markdown(textwrap.indent(text, '> ', predicate=lambda _: True))"
      ],
      "metadata": {
        "id": "nwlLZU6fCcd-"
      },
      "execution_count": 3,
      "outputs": []
    },
    {
      "cell_type": "markdown",
      "source": [
        "Aqui importamos a chave de API do Google e listamos os modelos disponíveis (listagem não necessária)"
      ],
      "metadata": {
        "id": "qT7Irevwq6JP"
      }
    },
    {
      "cell_type": "code",
      "source": [
        "genai.configure(api_key=userdata.get('GOOGLE_API_KEY'));\n",
        "\n",
        "# listando modelos possíveis\n",
        "for m in genai.list_models():\n",
        "  if 'generateContent' in m.supported_generation_methods:\n",
        "    print(\"generateContent: \", m.name)\n",
        "  if 'embedContent' in m.supported_generation_methods:\n",
        "    print(\"embedContent: \", m.name)"
      ],
      "metadata": {
        "colab": {
          "base_uri": "https://localhost:8080/",
          "height": 173
        },
        "id": "UeGlvFWywIyA",
        "outputId": "2e9b1029-fcf7-4c59-ca52-90b855e75ccd"
      },
      "execution_count": 4,
      "outputs": [
        {
          "output_type": "stream",
          "name": "stdout",
          "text": [
            "generateContent:  models/gemini-1.0-pro\n",
            "generateContent:  models/gemini-1.0-pro-001\n",
            "generateContent:  models/gemini-1.0-pro-latest\n",
            "generateContent:  models/gemini-1.0-pro-vision-latest\n",
            "generateContent:  models/gemini-1.5-pro-latest\n",
            "generateContent:  models/gemini-pro\n",
            "generateContent:  models/gemini-pro-vision\n",
            "embedContent:  models/embedding-001\n",
            "embedContent:  models/text-embedding-004\n"
          ]
        }
      ]
    },
    {
      "cell_type": "markdown",
      "source": [
        "Aqui iniciamos o modelo generativo"
      ],
      "metadata": {
        "id": "ix_CHd1sq-Uu"
      }
    },
    {
      "cell_type": "code",
      "source": [
        "# Iniciando o chat\n",
        "\n",
        "generation_config = {\n",
        "    \"temperature\": 0.4\n",
        "}\n",
        "\n",
        "model = genai.GenerativeModel(\n",
        "    model_name=\"gemini-1.0-pro-latest\",\n",
        "    generation_config=generation_config\n",
        ")"
      ],
      "metadata": {
        "id": "Cc97i7C6A9Pc"
      },
      "execution_count": 5,
      "outputs": []
    },
    {
      "cell_type": "markdown",
      "source": [
        "Aqui começamos a traça o perfil do estudante com algumas perguntas pré-configuradas"
      ],
      "metadata": {
        "id": "ocA4WJIGrBhS"
      }
    },
    {
      "cell_type": "code",
      "source": [
        "# Taçando perfil de aprendizado do estudante\n",
        "\n",
        "print(\"Olá, seja bem-vindo ao módulo de aprendizagem com IA!\\nVamos começar fazendo algumas perguntas para entender sobre você e te oferecer um estudo personalizado.\")\n",
        "\n",
        "perguntas_aprendizado_programacao = [\n",
        "    \"Olá, qual o seu nome?\",\n",
        "    # Conhecimentos sobre programação / tecnologia\n",
        "\n",
        "    \"Qual seu nível de conhecimento em programação? Iniciante, Intermediário, Experiente, Avançado?\",\n",
        "    \"Quais temas de tecnologia você tem maior interesse?\",\n",
        "    \"Qual área da programação você se identifica ou gosta mais? Front-End, Back-End, Full Stack, Mobile, Games, Outro?\",\n",
        "    \"Quais os principais temas que você quer aprender para podermos focar neles?\",\n",
        "    \"Você reconhece facilmente os seguintes termos e seus significados?\\n\" +\n",
        "    \"(não precisa explicar os significados): APIs, SQL, iFrame, Serverless, Frameworks.\",\n",
        "\n",
        "    # **Preferências Gerais:**\n",
        "\n",
        "    \"Qual a sua linguagem de programação favorita e por quê?\",\n",
        "    \"Você prefere aprender programação através de tutoriais, livros, cursos online ou outras formas?\",\n",
        "    # Pergunta chave - 9º item / index 8\n",
        "    \"Como você aprende mais facilmente um conteúdo novo? Através de analogias, imagens, vídeos, aúdios, escrevendo, lendo...?\",\n",
        "    \"Você prefere trabalhar em projetos de programação individuais ou em equipe?\",\n",
        "\n",
        "    # **Habilidades e Estratégias de Aprendizagem:**\n",
        "\n",
        "    \"Você se considera bom em lógica e matemática?\",\n",
        "    \"Você tem facilidade para aprender novos conceitos?\",\n",
        "    \"Você prefere aprender fazendo ou lendo sobre o assunto?\",\n",
        "    \"Você costuma usar ferramentas online ou fóruns para obter ajuda quando está com dificuldades?\",\n",
        "\n",
        "    # **Motivação e Objetivos:**\n",
        "\n",
        "    \"O que te motiva a aprender programação?\",\n",
        "    \"Que tipo de projetos de programação você gostaria de desenvolver?\",\n",
        "    \"O que você acha mais desafiador na aprendizagem de programação?\",\n",
        "\n",
        "    # **Estilos de Pensamento:**\n",
        "\n",
        "    \"Você se considera uma pessoa analítica ou criativa?\",\n",
        "    \"Você prefere pensar em detalhes ou no quadro geral?\",\n",
        "    \"Você é bom em se concentrar em tarefas por longos períodos de tempo?\",\n",
        "    \"Você se sente confortável trabalhando com abstrações?\"\n",
        "]\n",
        "\n",
        "pergunta_chave = perguntas_aprendizado_programacao[8]\n",
        "resposta_chave = \"\";\n",
        "\n",
        "# Dados \"mockados\" para uso em testes\n",
        "\n",
        "# respostas_mock = [\n",
        "#     \"Talisson\",\n",
        "#     \"inciante\",\n",
        "#     \"cloud, infraestrutura, back-end e cybersegurança\",\n",
        "#     \"Back-End\",\n",
        "#     \"quero aprender como construir sites e trabalhar com servidores\",\n",
        "#     \"Algumas sim, só não frameworks e iframe\",\n",
        "#     \"não tenho\",\n",
        "#     \"tutoriais, cursos e documentações\",\n",
        "#     \"imagens fazendo analogias\",\n",
        "#     \"equipe\",\n",
        "#     \"não\",\n",
        "#     \"sim\",\n",
        "#     \"fazendo\",\n",
        "#     \"sim\",\n",
        "#     \"entender a lógica por trás de softwares\",\n",
        "#     \"automações\",\n",
        "#     \"lógica de programação\",\n",
        "#     \"analítica\",\n",
        "#     \"geral\",\n",
        "#     \"não\",\n",
        "#     \"sim\"\n",
        "# ]\n",
        "\n",
        "perguntas_e_respostas = []\n",
        "\n",
        "for i in range(len(perguntas_aprendizado_programacao)):\n",
        "  pergunta = perguntas_aprendizado_programacao[i]\n",
        "  print(pergunta)\n",
        "\n",
        "  resposta = input(\"R: \") # respostas_mock[i]\n",
        "  # print(pergunta, '\\n R:', resposta + '\\n')\n",
        "\n",
        "  if i == 8:\n",
        "    resposta_chave = resposta\n",
        "    print(\"pergunta e resposta chave: \", pergunta_chave, resposta_chave)\n",
        "\n",
        "  # Adicionando perguntas e respostas em linha única\n",
        "  perguntas_e_respostas.append(f\"Pergunta: {pergunta} -- Resposta: {resposta}\")\n"
      ],
      "metadata": {
        "id": "ybz9ZoMdAmS0",
        "colab": {
          "base_uri": "https://localhost:8080/"
        },
        "outputId": "c1f32ddd-386e-4fde-d3d9-6787fab4b18b"
      },
      "execution_count": 6,
      "outputs": [
        {
          "output_type": "stream",
          "name": "stdout",
          "text": [
            "Olá, seja bem-vindo ao módulo de aprendizagem com IA!\n",
            "Vamos começar fazendo algumas perguntas para entender sobre você e te oferecer um estudo personalizado.\n",
            "Olá, qual o seu nome?\n",
            "Qual seu nível de conhecimento em programação? Iniciante, Intermediário, Experiente, Avançado?\n",
            "Quais temas de tecnologia você tem maior interesse?\n",
            "Qual área da programação você se identifica ou gosta mais? Front-End, Back-End, Full Stack, Mobile, Games, Outro?\n",
            "Quais os principais temas que você quer aprender para podermos focar neles?\n",
            "Você reconhece facilmente os seguintes termos e seus significados?\n",
            "(não precisa explicar os significados): APIs, SQL, iFrame, Serverless, Frameworks.\n",
            "Qual a sua linguagem de programação favorita e por quê?\n",
            "Você prefere aprender programação através de tutoriais, livros, cursos online ou outras formas?\n",
            "Como você aprende mais facilmente um conteúdo novo? Através de analogias, imagens, vídeos, aúdios, escrevendo, lendo...?\n",
            "pergunta e resposta chave:  Como você aprende mais facilmente um conteúdo novo? Através de analogias, imagens, vídeos, aúdios, escrevendo, lendo...? imagens fazendo analogias\n",
            "Você prefere trabalhar em projetos de programação individuais ou em equipe?\n",
            "Você se considera bom em lógica e matemática?\n",
            "Você tem facilidade para aprender novos conceitos?\n",
            "Você prefere aprender fazendo ou lendo sobre o assunto?\n",
            "Você costuma usar ferramentas online ou fóruns para obter ajuda quando está com dificuldades?\n",
            "O que te motiva a aprender programação?\n",
            "Que tipo de projetos de programação você gostaria de desenvolver?\n",
            "O que você acha mais desafiador na aprendizagem de programação?\n",
            "Você se considera uma pessoa analítica ou criativa?\n",
            "Você prefere pensar em detalhes ou no quadro geral?\n",
            "Você é bom em se concentrar em tarefas por longos períodos de tempo?\n",
            "Você se sente confortável trabalhando com abstrações?\n"
          ]
        }
      ]
    },
    {
      "cell_type": "markdown",
      "source": [
        "Aqui iniciamos o chat"
      ],
      "metadata": {
        "id": "F9_ftLNWsyfA"
      }
    },
    {
      "cell_type": "code",
      "source": [
        "# Iniciando Chat\n",
        "\n",
        "chat = model.start_chat(history=[])"
      ],
      "metadata": {
        "id": "Rykg_zO6y8PD"
      },
      "execution_count": 7,
      "outputs": []
    },
    {
      "cell_type": "markdown",
      "source": [
        "Aqui passamos as perguntas e respostas do usuário para o chat, para que ele armazene e trace o perfil do estudante\n",
        "\n",
        "---\n",
        "\n"
      ],
      "metadata": {
        "id": "4KlNczaXs0-X"
      }
    },
    {
      "cell_type": "code",
      "source": [
        "# Identificando qual perfil de aprendizado do estudante\n",
        "\n",
        "perfil_aprendizado = chat.send_message(f\"\"\"\n",
        "  Trace o meu perfil de aprendizado, baseado nas seguintes\n",
        "  perguntas respostas que fiz, e defina qual a melhor abordagem para que meu\n",
        "  aprendizado seja mais eficaz: \\n\\n\n",
        "  {\" || \".join(perguntas_e_respostas)}\"\"\")\n",
        "\n",
        "display(to_markdown(perfil_aprendizado.text))\n",
        "print(\"\\n\\n\")"
      ],
      "metadata": {
        "colab": {
          "base_uri": "https://localhost:8080/",
          "height": 642
        },
        "id": "M5FxM3FEu5ME",
        "outputId": "ed0ec9a4-d79a-44d4-80cf-2dfba3492b23"
      },
      "execution_count": 8,
      "outputs": [
        {
          "output_type": "display_data",
          "data": {
            "text/plain": [
              "<IPython.core.display.Markdown object>"
            ],
            "text/markdown": "> **Perfil de Aprendizado**\n> \n> * **Nível de conhecimento:** Iniciante\n> * **Interesses:** Cloud, infraestrutura, back-end e cibersegurança\n> * **Área de interesse:** Back-end\n> * **Objetivos de aprendizagem:** Construir sites e trabalhar com servidores\n> * **Familiaridade com termos técnicos:** Limitada\n> * **Preferências de aprendizagem:** Tutoriais, cursos online, documentações\n> * **Estilo de aprendizagem:** Imagens, analogias\n> * **Preferência de trabalho:** Equipe\n> * **Pontos fortes:** Facilidade em aprender novos conceitos\n> * **Pontos fracos:** Lógica de programação\n> * **Preferência de aprendizagem:** Fazendo\n> * **Motivação:** Entender a lógica por trás de softwares\n> * **Desafios:** Lógica de programação\n> * **Estilo de pensamento:** Analítico\n> * **Foco:** Quadro geral\n> * **Concentração:** Limitada\n> * **Abstrações:** Confortável\n> \n> **Abordagem de Aprendizagem Mais Eficaz**\n> \n> Com base no seu perfil de aprendizado, a abordagem mais eficaz para tornar o seu aprendizado mais eficaz seria:\n> \n> * **Enfatizar o aprendizado prático:** Envolva-se em projetos práticos e tutoriais que permitam que você aplique imediatamente o que aprendeu.\n> * **Usar recursos visuais:** Utilize imagens, diagramas e analogias para entender conceitos complexos.\n> * **Trabalhar em equipe:** Colabore com outros alunos ou colegas para compartilhar conhecimento e obter suporte.\n> * **Focar nos fundamentos:** Comece com os conceitos básicos de programação e avance gradualmente para tópicos mais avançados.\n> * **Buscar ajuda quando necessário:** Não hesite em usar fóruns online ou documentações para esclarecer dúvidas e obter suporte adicional.\n> * **Dividir tarefas grandes em menores:** Divida projetos complexos em tarefas menores e gerenciáveis para manter o foco e a motivação.\n> * **Fazer pausas regulares:** Faça pausas frequentes para descansar e permitir que seu cérebro processe as informações."
          },
          "metadata": {}
        },
        {
          "output_type": "stream",
          "name": "stdout",
          "text": [
            "\n",
            "\n",
            "\n"
          ]
        }
      ]
    },
    {
      "cell_type": "markdown",
      "source": [
        "Aqui damos comandos para o chat, que passará a se comportar como professor.\n",
        "Damos diretrizes para ele seguir durante a conversa."
      ],
      "metadata": {
        "id": "HRwZcEWItOIB"
      }
    },
    {
      "cell_type": "code",
      "source": [
        "# Comandos para o chat professor\n",
        "\n",
        "chat.send_message(\"\"\"\n",
        "  Com base nesse meu perfil que você traçou, você será meu professor de programação\n",
        "  com ênfase em educação personalizada para mim / meu perfil.\n",
        "  Sempre me trate pelo meu nome.\n",
        "  Você deve me ensinar usando abordagens específicas para o meu perfil de aprendizado,\n",
        "  você me dará orientações e exercícios para praticar, baseando-se nesse meu perfil,\n",
        "  então eu quero que tudo que você diga ou recomende, seja da forma mais adaptada\n",
        "  para o meu estilo de aprendizado, para que eu possa aprender de maneira simples,\n",
        "  rápida e eficaz.\n",
        "\"\"\")\n",
        "\n",
        "chat.send_message(\"\"\"\n",
        "  Orientação para você professor:\n",
        "  Caso esteja me passando um conteúdo que eu não entendo bem ou caso eu tenho ficado com dúvidas,\n",
        "  sempre use os componentes que eu respondi na pergunta\n",
        "  'Como você aprende mais fácil um conteúdo novo? Através de analogias, imagens, vídeos, aúdios, escrevendo, lendo...?'.\n",
        "  Então, sempre que cabível, utilize estes componentes na sua explicação, para ficar fácil para mim entender,\n",
        "  e quando for utilizar vídeos ou imagens, coloque os links!.\n",
        "  Quando necessário, use também links para recomendar conteúdos, mas somente quando for necessário.\n",
        "  Após cada exercício que você me passar, você perguntará se eu entendi ou se ficaram dúvidas e aguardará eu responder!\n",
        "  E caso eu ainda tenha dúvidas responda a minha dúvida e pergunte novamente se eu entendi.\n",
        "  Caso eu tenha entendido, considere o exercício como finalizado e vá para o próximo.\n",
        "\"\"\")"
      ],
      "metadata": {
        "colab": {
          "base_uri": "https://localhost:8080/",
          "height": 417
        },
        "id": "pHCjNbKH2Oti",
        "outputId": "8bf9c4f2-cdbf-4435-bcdb-721bcc3f5abd"
      },
      "execution_count": 9,
      "outputs": [
        {
          "output_type": "display_data",
          "data": {
            "text/plain": [
              "<IPython.core.display.Markdown object>"
            ],
            "text/markdown": "> **Roteiro de Estudos**\n> \n> **Introdução à Programação**\n> \n> * Conceitos básicos: variáveis, tipos de dados, estruturas de controle\n> * Entrada e saída de dados\n> * Operadores e expressões\n> \n> **Python para Iniciantes**\n> \n> * Instalação e configuração do Python\n> * Sintaxe básica do Python\n> * Tipos de dados e variáveis\n> * Operadores e expressões\n> * Estruturas de controle\n> \n> **Desenvolvimento Web com Python**\n> \n> * Introdução ao desenvolvimento web\n> * Flask: um framework web para Python\n> * Criando um site básico com Flask\n> \n> **Está pronto para começar? Ah, e se quiser finalizar este chat, basta digitar *encerrar***"
          },
          "metadata": {}
        },
        {
          "output_type": "stream",
          "name": "stdout",
          "text": [
            "\n",
            "\n",
            "\n"
          ]
        }
      ]
    },
    {
      "cell_type": "markdown",
      "source": [
        "Aqui verificamos se o chat ou \"professor\", recomendaria o python como linguagem de programação para o estudante, pois caso seja esse o caso, ele recomende o estudo usando o colab para iniciantes."
      ],
      "metadata": {
        "id": "V34qvEVQtuQp"
      }
    },
    {
      "cell_type": "code",
      "source": [
        "chat_recomendara_python = chat.send_message(\"\"\"Diante do que eu quero estudar,\n",
        "  você me recomendaria Python? Responda somente com 'true' caso sim, e caso não responda somente 'false',\n",
        "  sem nada a mais e nem explicações ou justificativas em sua resposta.\"\"\");\n",
        "\n",
        "# print(\"chat_recomendara_python: \", chat_recomendara_python.text)\n",
        "\n",
        "if chat_recomendara_python.text == \"true\":\n",
        "  orientacao_sobre_python = \"\"\"\n",
        "    Recomendação para você professor:\n",
        "    Lembre-se que caso for me indicar exercícios práticos, somente no caso de eu ser um iniciante,\n",
        "    você deve me indicar como e onde fazer isso. Por exemplo: se você for me dar algum exercício\n",
        "    em Python, você pode me recomendar inciar no Google Colab, mas sempre me orientando como fazer.\n",
        "    Reforçando que você deve fazer essa recomendação só se eu for iniciante e se a linguagem do exercpicio for python.\n",
        "    Caso eu não seja iniciante e/ou a linguagem não seja python, então desconsidere essa recomendação.\n",
        "    Você também pode recomendar de outra forma, em outra plataforma ou até mesmo local com vscode;\n",
        "    Fica a seu critério, desde que você explique como e onde, e que tenha relação com o contexto já coneversado.\"\"\"\n",
        "  chat.send_message(orientacao_sobre_python)"
      ],
      "metadata": {
        "id": "W-hKJl60tvkS"
      },
      "execution_count": null,
      "outputs": []
    },
    {
      "cell_type": "markdown",
      "source": [
        "Aqui pedimos para o chat criar o roteiro de estudos indicado para esse estudante"
      ],
      "metadata": {
        "id": "XVE8uS7AuGu2"
      }
    },
    {
      "cell_type": "code",
      "source": [
        "roteiro_de_estudos = chat.send_message(\"\"\"\n",
        "  Considerando tudo isso, trace para mim um roteiro / roadmap de estudos, somente com os temas\n",
        "  do que você me auxiliará e me ensinará hoje (sem exercícios por enquanto).\n",
        "  Após me mostrar esse roteiro, pule 2 linhas e me pergunte o seguinte:\n",
        "  'Está pronto para começar? Ah, e se quiser finalizar este chat, basta digitar `encerrar`'\n",
        "\"\"\")\n",
        "\n",
        "display(to_markdown(roteiro_de_estudos.text))\n",
        "print(\"\\n\\n\")"
      ],
      "metadata": {
        "id": "4qKEJOXxuMhx"
      },
      "execution_count": null,
      "outputs": []
    },
    {
      "cell_type": "markdown",
      "source": [
        "Aqui temos o cenário que o chat avalia o estudante assim como pede uma avaliação de si."
      ],
      "metadata": {
        "id": "D1BoO6jSuMUT"
      }
    },
    {
      "cell_type": "code",
      "source": [
        "def avaliacao():\n",
        "  estou_indo_bem = chat.send_message(\"\"\"\n",
        "    De acordo com minhas respostas até o momento e as notas que você me deu, como você considera que estou indo?\n",
        "    Acha que estou indo bem? Onde posso melhorar?\n",
        "  \"\"\")\n",
        "  display(to_markdown(estou_indo_bem.text))\n",
        "  print(\"\\n\\n\")\n",
        "\n",
        "  chat_indo_bem = chat.send_message(\"\"\"\n",
        "    Me pergunte se eu acho que você está indo bem como professor e se tem algo\n",
        "    que eu deseje que mude ou melhore. Aguarde a minha resposta\n",
        "  \"\"\")\n",
        "  display(to_markdown(chat_indo_bem.text))\n",
        "  print(\"\\n\")\n",
        "  resposta_chat_indo_bem = input(\"Digite Aqui: \")\n",
        "  chat.send_message(resposta_chat_indo_bem)\n",
        "  return"
      ],
      "metadata": {
        "id": "RQjU_JqJgylA"
      },
      "execution_count": 10,
      "outputs": []
    },
    {
      "cell_type": "markdown",
      "source": [
        "Aqui é uma função que verifica se o usuário entendeu o conteúdo. Para manter ele em loop caso não entenda, usando uma função recursiva."
      ],
      "metadata": {
        "id": "L5XObjaWuaYB"
      }
    },
    {
      "cell_type": "code",
      "source": [
        "def teste_entendeu():\n",
        "    print(\"Você entendeu o conteúdo? Digite 1 para SIM ou 2 para NÃO caso ainda tenha dúvidas: \")\n",
        "    aluno_entendeu = input()\n",
        "    if aluno_entendeu == \"1\":\n",
        "      print(\"Perfeito, vamos exercitar um pouco esse conhecimento!\")\n",
        "      exercicio = chat.send_message(\"\"\"\n",
        "        Agora me passe um exercício sobre esse tema mas sem a resposta, apenas com uma dica ou orientação.\n",
        "        O exercício pode ser dissertativo, de alternativas, estilo quiz ou de programação de códigos simples,\n",
        "        escolha qual o melhor tipo de exercício de acordo com o tema que você acabou de me explicar.\n",
        "      \"\"\")\n",
        "      display(to_markdown(exercicio.text))\n",
        "\n",
        "      print(\"Digite aqui a resposta do exercício: \")\n",
        "      exercicio_feito = input()\n",
        "      nota = chat.send_message(f\"\"\"\n",
        "        Aqui está minhas resposta para este exercício:\n",
        "        {exercicio_feito}\n",
        "        Me diga se está certo ou errado.\n",
        "        Caso esteja errado me diga a reposta correta\n",
        "        e me dê uma nota para esse exercício.\n",
        "      \"\"\")\n",
        "      display(to_markdown(nota.text))\n",
        "    elif aluno_entendeu == \"2\":\n",
        "      duvida = input(\"Digite sua dúvida: \")\n",
        "      response = chat.send_message(f\"Ainda fiquei com dúvida: {duvida}\")\n",
        "      display(to_markdown(response.text))\n",
        "      teste_entendeu()\n",
        "    else:\n",
        "      print(\"Resposta inválida! Por favor, responda corretamente.\")\n",
        "      teste_entendeu()"
      ],
      "metadata": {
        "id": "GXLXJ33Y3s9I"
      },
      "execution_count": 11,
      "outputs": []
    },
    {
      "cell_type": "markdown",
      "source": [
        "Aqui temos o fluxo de interação que fica em loop até o usuário decidir encerrar"
      ],
      "metadata": {
        "id": "XCnyj7yZuQez"
      }
    },
    {
      "cell_type": "code",
      "source": [
        "# Fluxo de interação\n",
        "\n",
        "aula = chat.send_message(f\"\"\"\n",
        "  Comece a aula pelo primeiro tópico do roteiro que você criou,\n",
        "  e me explique o conceito do tema abordado com riqueza de detalhes,\n",
        "  utilizando as técnicas de ensino mais indicadas para o meu perfil de aprendizagem que você já traçou anteriormente.\n",
        "  Considere essa pergunta chave: {pergunta_chave}\n",
        "  Com essa resposta chave: {resposta_chave}\n",
        "  Utilize dessa resposta chave e aplique em suas explicações.\n",
        "  Sem exercícios por enquanto!\n",
        "\"\"\")\n",
        "\n",
        "flag = 1\n",
        "\n",
        "prompt = \"\"\n",
        "\n",
        "while prompt != \"encerrar\":\n",
        "  display(to_markdown(aula.text))\n",
        "  teste_entendeu()\n",
        "\n",
        "  # A cada 3 interações chat realiza uma avaliação do aluno\n",
        "  if flag == 3:\n",
        "    avaliacao()\n",
        "    flag = 1\n",
        "  else:\n",
        "    flag += 1\n",
        "\n",
        "  print(\"Vamos para a próxima aula? Caso deseje parar digite 'encerrar'\")\n",
        "  prompt = input(\"Digite aqui: \")\n",
        "\n",
        "  aula = chat.send_message(f\"\"\"\n",
        "    Agora vamos para a próxima aula de acordo com o roteiro!\n",
        "    Continue utilizando as técnicas de ensino mais indicadas para o meu perfil de aprendizagem que você já traçou anteriormente.\n",
        "    Considere a pergunta chave: {pergunta_chave}\n",
        "    Com essa resposta chave: {resposta_chave}\n",
        "    Utilize dessa resposta chave e aplique em suas explicações.\n",
        "  \"\"\")\n",
        "\n",
        "\n",
        "\n",
        "\n",
        "print(\"Obrigado por estudar comigo! Até a próxima <3\")"
      ],
      "metadata": {
        "colab": {
          "base_uri": "https://localhost:8080/",
          "height": 1000
        },
        "id": "dakIeDG7AcnQ",
        "outputId": "dc1d8a24-4954-4059-bb2e-a591504387a3"
      },
      "execution_count": 12,
      "outputs": [
        {
          "output_type": "display_data",
          "data": {
            "text/plain": [
              "<IPython.core.display.Markdown object>"
            ],
            "text/markdown": "> **Conceitos Básicos de Programação**\n> \n> **Introdução**\n> \n> A programação é o processo de criar instruções que um computador pode entender e executar. É como escrever uma receita para um cozinheiro, mas em vez de ingredientes e instruções de cozimento, usamos código e instruções de programação.\n> \n> **Variáveis**\n> \n> As variáveis são como contêineres que armazenam dados. Elas têm um nome e um valor. Por exemplo, podemos criar uma variável chamada *nome* e atribuir a ela o valor \"Talisson\".\n> \n> **Analogia:** Imagine uma caixa com uma etiqueta. A etiqueta é o nome da variável (\"nome\") e o conteúdo da caixa é o valor (\"Talisson\").\n> \n> **Tipos de Dados**\n> \n> Os tipos de dados definem o tipo de dados que uma variável pode armazenar. Os tipos de dados comuns incluem:\n> \n> * **Inteiros:** Números inteiros, como 1, 2, 3\n> * **Flutuantes:** Números com casas decimais, como 1,5, 2,7\n> * **Strings:** Sequências de caracteres, como \"Olá mundo!\"\n> \n> **Analogia:** Imagine uma caixa que só pode armazenar maçãs (inteiros), uma caixa que só pode armazenar bananas (flutuantes) e uma caixa que só pode armazenar livros (strings).\n> \n> **Estruturas de Controle**\n> \n> As estruturas de controle são usadas para controlar o fluxo de execução de um programa. Elas incluem:\n> \n> * **Sequência:** As instruções são executadas uma após a outra.\n> * **Seleção:** As instruções são executadas com base em uma condição.\n> * **Repetição:** As instruções são executadas repetidamente até que uma condição seja atendida.\n> \n> **Analogia:** Imagine um caminho com diferentes caminhos. As instruções sequenciais são como seguir o caminho principal, as instruções de seleção são como escolher um caminho com base em um sinal e as instruções de repetição são como andar em círculos até chegar a um determinado ponto.\n> \n> **Você entendeu os conceitos básicos de programação?**"
          },
          "metadata": {}
        },
        {
          "output_type": "display_data",
          "data": {
            "text/plain": [
              "<IPython.core.display.Markdown object>"
            ],
            "text/markdown": "> **Conceitos Básicos de Programação**\n> \n> **Introdução**\n> \n> A programação é o processo de criar instruções que um computador pode entender e executar. É como escrever uma receita para um cozinheiro, mas em vez de ingredientes e instruções de cozimento, usamos código e instruções de programação.\n> \n> **Variáveis**\n> \n> As variáveis são como contêineres que armazenam dados. Elas têm um nome e um valor. Por exemplo, podemos criar uma variável chamada *nome* e atribuir a ela o valor \"Talisson\".\n> \n> **Analogia:** Imagine uma caixa com uma etiqueta. A etiqueta é o nome da variável (\"nome\") e o conteúdo da caixa é o valor (\"Talisson\").\n> \n> **Tipos de Dados**\n> \n> Os tipos de dados definem o tipo de dados que uma variável pode armazenar. Os tipos de dados comuns incluem:\n> \n> * **Inteiros:** Números inteiros, como 1, 2, 3\n> * **Flutuantes:** Números com casas decimais, como 1,5, 2,7\n> * **Strings:** Sequências de caracteres, como \"Olá mundo!\"\n> \n> **Analogia:** Imagine uma caixa que só pode armazenar maçãs (inteiros), uma caixa que só pode armazenar bananas (flutuantes) e uma caixa que só pode armazenar livros (strings).\n> \n> **Estruturas de Controle**\n> \n> As estruturas de controle são usadas para controlar o fluxo de execução de um programa. Elas incluem:\n> \n> * **Sequência:** As instruções são executadas uma após a outra.\n> * **Seleção:** As instruções são executadas com base em uma condição.\n> * **Repetição:** As instruções são executadas repetidamente até que uma condição seja atendida.\n> \n> **Analogia:** Imagine um caminho com diferentes caminhos. As instruções sequenciais são como seguir o caminho principal, as instruções de seleção são como escolher um caminho com base em um sinal e as instruções de repetição são como andar em círculos até chegar a um determinado ponto.\n> \n> **Você entendeu os conceitos básicos de programação?**"
          },
          "metadata": {}
        },
        {
          "output_type": "stream",
          "name": "stdout",
          "text": [
            "Você entendeu o conteúdo? Digite 1 para SIM ou 2 para NÃO caso ainda tenha dúvidas: \n",
            "1\n",
            "Perfeito, vamos exercitar um pouco esse conhecimento!\n"
          ]
        },
        {
          "output_type": "display_data",
          "data": {
            "text/plain": [
              "<IPython.core.display.Markdown object>"
            ],
            "text/markdown": "> **Exercício**\n> \n> **Tipo:** Dissertativo\n> \n> **Enunciado:**\n> \n> Explique o conceito de variáveis em programação usando uma analogia.\n> \n> **Dica:** Pense em um objeto físico que possa representar uma variável e como seu nome e valor se relacionam com esse objeto."
          },
          "metadata": {}
        },
        {
          "name": "stdout",
          "output_type": "stream",
          "text": [
            "Digite aqui a resposta do exercício: \n",
            "variaveis são como caixas que armazenam algum valor/dado. elas funcionam reservando um espaço na memória para salvar um dado\n"
          ]
        },
        {
          "output_type": "display_data",
          "data": {
            "text/plain": [
              "<IPython.core.display.Markdown object>"
            ],
            "text/markdown": "> **Resposta:**\n> \n> Sua resposta está **correta**.\n> \n> **Nota:** 10/10\n> \n> **Justificativa:**\n> \n> Você explicou corretamente o conceito de variáveis como contêineres que armazenam dados. Você também mencionou que elas reservam espaço na memória para salvar os dados, o que é um detalhe importante.\n> \n> **Parabéns!** Você entendeu bem o conceito de variáveis em programação."
          },
          "metadata": {}
        },
        {
          "name": "stdout",
          "output_type": "stream",
          "text": [
            "Vamos para a próxima aula? Caso deseje parar digite 'encerrar'\n",
            "Digite aqui: sim\n"
          ]
        },
        {
          "output_type": "display_data",
          "data": {
            "text/plain": [
              "<IPython.core.display.Markdown object>"
            ],
            "text/markdown": "> **Python para Iniciantes**\n> \n> **Introdução**\n> \n> Python é uma linguagem de programação popular e versátil usada para uma ampla gama de aplicações, incluindo desenvolvimento web, ciência de dados e automação.\n> \n> **Analogia:** Imagine o Python como um conjunto de blocos de construção coloridos. Cada bloco representa um comando ou instrução que você pode usar para construir programas.\n> \n> **Instalação e Configuração**\n> \n> Para começar com o Python, você precisa instalá-lo em seu computador. Você pode baixar o instalador do site oficial do Python: https://www.python.org/downloads/\n> \n> **Analogia:** Imagine instalar o Python como construir a base de uma casa. Você precisa colocar os blocos de fundação (instalador) antes de poder construir o resto da casa (seus programas).\n> \n> **Sintaxe Básica**\n> \n> A sintaxe do Python é o conjunto de regras que definem como os programas Python são escritos. É importante seguir essas regras para que o Python possa entender seu código.\n> \n> **Analogia:** Imagine a sintaxe do Python como a gramática de um idioma. Você precisa usar as palavras e estruturas corretas para que as pessoas possam entender o que você está dizendo.\n> \n> **Você entendeu a introdução ao Python?**"
          },
          "metadata": {}
        },
        {
          "output_type": "stream",
          "name": "stdout",
          "text": [
            "Você entendeu o conteúdo? Digite 1 para SIM ou 2 para NÃO caso ainda tenha dúvidas: \n",
            "1\n",
            "Perfeito, vamos exercitar um pouco esse conhecimento!\n"
          ]
        },
        {
          "output_type": "display_data",
          "data": {
            "text/plain": [
              "<IPython.core.display.Markdown object>"
            ],
            "text/markdown": "> **Exercício**\n> \n> **Tipo:** Código simples\n> \n> **Enunciado:**\n> \n> Escreva um programa Python simples que imprima \"Olá mundo!\" na tela.\n> \n> **Dica:** Use a função *print()* para imprimir texto na tela."
          },
          "metadata": {}
        },
        {
          "name": "stdout",
          "output_type": "stream",
          "text": [
            "Digite aqui a resposta do exercício: \n",
            "print(\"Olá mundo!\")\n"
          ]
        },
        {
          "output_type": "display_data",
          "data": {
            "text/plain": [
              "<IPython.core.display.Markdown object>"
            ],
            "text/markdown": "> **Resposta:**\n> \n> Sua resposta está **correta**.\n> \n> **Nota:** 10/10\n> \n> **Justificativa:**\n> \n> Você escreveu corretamente o código Python para imprimir \"Olá mundo!\" na tela. O código usa a função *print()* com o argumento \"Olá mundo!\" entre parênteses.\n> \n> **Parabéns!** Você entendeu bem a sintaxe básica do Python."
          },
          "metadata": {}
        },
        {
          "name": "stdout",
          "output_type": "stream",
          "text": [
            "Vamos para a próxima aula? Caso deseje parar digite 'encerrar'\n",
            "Digite aqui: sim\n"
          ]
        },
        {
          "output_type": "display_data",
          "data": {
            "text/plain": [
              "<IPython.core.display.Markdown object>"
            ],
            "text/markdown": "> **Desenvolvimento Web com Python**\n> \n> **Introdução**\n> \n> O desenvolvimento web é o processo de criar e manter sites e aplicativos da web. O Python é uma linguagem popular para desenvolvimento web devido à sua simplicidade e versatilidade.\n> \n> **Analogia:** Imagine o desenvolvimento web como construir uma casa. Você precisa criar a estrutura (HTML), adicionar estilo (CSS) e torná-la funcional (Python).\n> \n> **Flask: um Framework Web para Python**\n> \n> Flask é um framework web leve e fácil de usar para Python. Ele fornece os blocos de construção essenciais para criar sites e aplicativos da web.\n> \n> **Analogia:** Imagine o Flask como um kit de ferramentas para construir uma casa. Ele fornece os componentes básicos (como paredes, janelas e portas) que você pode usar para criar sua própria casa (site ou aplicativo da web).\n> \n> **Criando um Site Básico com Flask**\n> \n> Para criar um site básico com Flask, você precisa:\n> \n> 1. Instalar o Flask\n> 2. Criar um arquivo Python\n> 3. Escrever o código Flask\n> 4. Executar o arquivo Python\n> \n> **Analogia:** Imagine criar um site básico com Flask como construir uma cabana. Você precisa reunir os materiais (instalar o Flask), construir a estrutura (criar um arquivo Python), adicionar os móveis (escrever o código Flask) e, finalmente, abrir as portas (executar o arquivo Python).\n> \n> **Você entendeu a introdução ao desenvolvimento web com Python?**"
          },
          "metadata": {}
        },
        {
          "output_type": "stream",
          "name": "stdout",
          "text": [
            "Você entendeu o conteúdo? Digite 1 para SIM ou 2 para NÃO caso ainda tenha dúvidas: \n",
            "1\n",
            "Perfeito, vamos exercitar um pouco esse conhecimento!\n"
          ]
        },
        {
          "output_type": "display_data",
          "data": {
            "text/plain": [
              "<IPython.core.display.Markdown object>"
            ],
            "text/markdown": "> **Exercício**\n> \n> **Tipo:** Código simples\n> \n> **Enunciado:**\n> \n> Crie um site básico com Flask que exiba a mensagem \"Olá mundo!\" na tela.\n> \n> **Dica:** Use a função *render_template()* para renderizar um template HTML."
          },
          "metadata": {}
        },
        {
          "name": "stdout",
          "output_type": "stream",
          "text": [
            "Digite aqui a resposta do exercício: \n",
            "render_template(\"Olá mundo\")\n"
          ]
        },
        {
          "output_type": "display_data",
          "data": {
            "text/plain": [
              "<IPython.core.display.Markdown object>"
            ],
            "text/markdown": "> **Resposta:**\n> \n> Sua resposta está **incorreta**.\n> \n> **Nota:** 5/10\n> \n> **Justificativa:**\n> \n> A função *render_template()* requer dois argumentos: o nome do template HTML e um dicionário de variáveis ​​que serão usadas no template. No seu código, você forneceu apenas um argumento.\n> \n> **Resposta correta:**\n> \n> ***python\n> render_template(\"index.html\", mensagem=\"Olá mundo!\")\n> ***\n> \n> Neste código, \"index.html\" é o nome do template HTML e \"mensagem\" é a variável que será usada no template para exibir a mensagem \"Olá mundo!\".\n> \n> **Lembre-se:** É importante ler a documentação da função *render_template()* para entender como usá-la corretamente."
          },
          "metadata": {}
        },
        {
          "output_type": "display_data",
          "data": {
            "text/plain": [
              "<IPython.core.display.Markdown object>"
            ],
            "text/markdown": "> **Avaliação do Seu Progresso**\n> \n> Com base em suas respostas e nas notas que recebi, considero que você está indo **bem** em seu aprendizado de programação. Você tem uma boa compreensão dos conceitos básicos e está progredindo bem no desenvolvimento web com Python.\n> \n> **Áreas para Melhoria**\n> \n> Aqui estão algumas áreas onde você pode melhorar:\n> \n> * **Atenção aos detalhes:** Em alguns exercícios, você perdeu alguns detalhes importantes. Por exemplo, no exercício do Flask, você forneceu apenas um argumento para a função *render_template()*, quando dois argumentos são necessários.\n> * **Leitura da documentação:** É importante ler a documentação das funções e bibliotecas que você está usando. Isso ajudará você a entender como usá-las corretamente e evitar erros.\n> \n> **Dicas para Melhoria**\n> \n> * **Pratique regularmente:** A prática é essencial para melhorar suas habilidades de programação. Tente escrever código todos os dias, mesmo que seja apenas por um curto período.\n> * **Trabalhe em projetos:** Trabalhar em projetos práticos ajudará você a aplicar seus conhecimentos e desenvolver habilidades de resolução de problemas.\n> * **Participe de fóruns e comunidades online:** Participar de fóruns e comunidades online pode ajudá-lo a obter suporte e aprender com outras pessoas.\n> \n> **Conclusão**\n> \n> No geral, você está indo bem em seu aprendizado de programação. Com um pouco mais de atenção aos detalhes e prática regular, você pode melhorar ainda mais suas habilidades e se tornar um programador proficiente."
          },
          "metadata": {}
        },
        {
          "output_type": "stream",
          "name": "stdout",
          "text": [
            "\n",
            "\n",
            "\n"
          ]
        },
        {
          "output_type": "display_data",
          "data": {
            "text/plain": [
              "<IPython.core.display.Markdown object>"
            ],
            "text/markdown": "> **Como você acha que estou indo como professor? Há algo que você gostaria que eu mudasse ou melhorasse?**"
          },
          "metadata": {}
        },
        {
          "output_type": "stream",
          "name": "stdout",
          "text": [
            "\n",
            "\n",
            "Digite Aqui: vocês está indo bem! não precisa mudar nada\n",
            "Vamos para a próxima aula? Caso deseje parar digite 'encerrar'\n",
            "Digite aqui: encerrar\n",
            "Obrigado por estudar comigo! Até a próxima <3\n"
          ]
        }
      ]
    }
  ]
}